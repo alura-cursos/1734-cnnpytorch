{
  "nbformat": 4,
  "nbformat_minor": 0,
  "metadata": {
    "colab": {
      "name": "Estratégias-Gabarito.ipynb",
      "provenance": [],
      "collapsed_sections": []
    },
    "kernelspec": {
      "name": "python3",
      "display_name": "Python 3"
    },
    "accelerator": "GPU"
  },
  "cells": [
    {
      "cell_type": "markdown",
      "metadata": {
        "id": "0QaQ3pskRlek",
        "colab_type": "text"
      },
      "source": [
        "# Estratégias de Treino\n",
        "\n",
        "Neste script vamos conhecer as principais estratégias de treino e utilização de redes neurais convolucionais:\n",
        "* Treino do zero (*from scratch*)\n",
        "* **Extração de Características**\n",
        "* ***Fine-Tuning* (ajuste fino)**\n",
        "\n",
        "Mas antes de tudo, vamos fazer os imports."
      ]
    },
    {
      "cell_type": "code",
      "metadata": {
        "id": "fjOzj1WvKQXo",
        "colab_type": "code",
        "colab": {
          "base_uri": "https://localhost:8080/",
          "height": 35
        },
        "outputId": "fbf07aef-17e1-4ee2-f8f2-dc851d9d3482"
      },
      "source": [
        "# Implementação e treinamento da rede\n",
        "import torch\n",
        "from torch import nn, optim\n",
        "\n",
        "# Carregamento de Dados e Modelos\n",
        "from torch.utils.data import DataLoader\n",
        "from torchvision import datasets, models\n",
        "from torchvision import transforms\n",
        "\n",
        "# Plots e análises\n",
        "from sklearn.metrics import accuracy_score\n",
        "import matplotlib.pyplot as plt\n",
        "import numpy as np\n",
        "import time, os\n",
        "\n",
        "%matplotlib inline\n",
        "\n",
        "# Configurando hiperparâmetros.\n",
        "args = {\n",
        "    'epoch_num': 5,      # Número de épocas.\n",
        "    'lr': 1e-3,           # Taxa de aprendizado.\n",
        "    'weight_decay': 8e-4, # Penalidade L2 (Regularização).\n",
        "    'batch_size': 20,     # Tamanho do batch.\n",
        "}\n",
        "\n",
        "# Definindo dispositivo de hardware\n",
        "if torch.cuda.is_available():\n",
        "    args['device'] = torch.device('cuda')\n",
        "else:\n",
        "    args['device'] = torch.device('cpu')\n",
        "\n",
        "print(args['device'])"
      ],
      "execution_count": 16,
      "outputs": [
        {
          "output_type": "stream",
          "text": [
            "cuda\n"
          ],
          "name": "stdout"
        }
      ]
    },
    {
      "cell_type": "markdown",
      "metadata": {
        "id": "_m8h_pe8Sgxi",
        "colab_type": "text"
      },
      "source": [
        "# Extração de características\n",
        "\n",
        "Esta estratégia tem como base o uso de modelos **pré-treinados** em datasets de larga escala. Redes treinadas em uma quantidade significativa e bem diversa de dados são capazes de extrair características de altíssima qualidade em dados que nunca viram antes.\n",
        "\n",
        "Como apresentado na imagem, a extração é realizada da seguinte forma:\n",
        "* **Adapta-se a rede**: A camada de classificação é removida da rede pré-treinada. \n",
        "* **Extrai as características**: Realiza o forward dos dados na rede. A última camada agora não realiza classificação, apenas produz características de alto nível semântico.\n",
        "* **Treina um classificador comum**: Alimenta as características extraídas dos dados de treino e de teste a um classificador (como o SVM).\n",
        "\n",
        "<img src=\"https://drive.google.com/uc?export=view&id=1Pulm0YqT53yB34eCkQSbCbzHuBPtAhU9\" alt=\"drawing\" width=\"650\"/>"
      ]
    },
    {
      "cell_type": "markdown",
      "metadata": {
        "id": "HcP_hgc8VP3C",
        "colab_type": "text"
      },
      "source": [
        "## Carregando Dados\n",
        "\n",
        "Nesse script usaremos um modelo pré-treinado no **[ImageNet](http://www.image-net.org/)**, um dataset com 1.000 classes de objeto. Até os dias de hoje, modelos pré-treinados nesse conjunto de dados produzem características que servem como base para inúmeras aplicações.\n",
        "\n",
        "O carregamento de dados deve seguir **o mesmo pré-processamento** do treinamento do modelo utilizado. <br>\n",
        "Pré-processamento com base no ImageNet: https://github.com/pytorch/examples/blob/master/imagenet/main.py#L202\n",
        "\n",
        "Usaremos uma **[composição de transformações](https://pytorch.org/docs/stable/torchvision/transforms.html#torchvision.transforms.Compose)** do PyTorch para realizar múltiplas transformações no dado.\n",
        "\n",
        "```python\n",
        "transforms.Compose([\n",
        "     # Lista de transformações.\n",
        "])\n",
        "```"
      ]
    },
    {
      "cell_type": "code",
      "metadata": {
        "id": "KXfUiNs4VPiJ",
        "colab_type": "code",
        "colab": {
          "base_uri": "https://localhost:8080/",
          "height": 35
        },
        "outputId": "6b1967e8-7368-4612-8a87-5b9b58b789a7"
      },
      "source": [
        "data_transform = transforms.Compose([\n",
        "                                     transforms.Resize(224),\n",
        "                                     transforms.ToTensor(),\n",
        "                                     transforms.Normalize(mean=[0.485, 0.456, 0.406],\n",
        "                                                          std=[0.229, 0.224, 0.225])\n",
        "                  ])\n",
        "\n",
        "train_set = datasets.CIFAR10('.', \n",
        "                      train=True, \n",
        "                      transform= data_transform, # transformação composta \n",
        "                      download=True)\n",
        "\n",
        "test_set = datasets.CIFAR10('.', \n",
        "                      train=False, \n",
        "                      transform= data_transform, # transformação composta \n",
        "                      download=False)"
      ],
      "execution_count": 17,
      "outputs": [
        {
          "output_type": "stream",
          "text": [
            "Files already downloaded and verified\n"
          ],
          "name": "stdout"
        }
      ]
    },
    {
      "cell_type": "code",
      "metadata": {
        "id": "QO0YzsaTVcIR",
        "colab_type": "code",
        "colab": {
          "base_uri": "https://localhost:8080/",
          "height": 298
        },
        "outputId": "370f4451-e66c-485b-ac71-0d123f6618ac"
      },
      "source": [
        "fig, axs = plt.subplots(1,10, figsize=(20, 2))\n",
        "for i in range(10):\n",
        "  data, label = test_set[i]\n",
        "  axs[i].imshow(data.permute((1,2,0)))\n",
        "  axs[i].axis('off')"
      ],
      "execution_count": 18,
      "outputs": [
        {
          "output_type": "stream",
          "text": [
            "Clipping input data to the valid range for imshow with RGB data ([0..1] for floats or [0..255] for integers).\n",
            "Clipping input data to the valid range for imshow with RGB data ([0..1] for floats or [0..255] for integers).\n",
            "Clipping input data to the valid range for imshow with RGB data ([0..1] for floats or [0..255] for integers).\n",
            "Clipping input data to the valid range for imshow with RGB data ([0..1] for floats or [0..255] for integers).\n",
            "Clipping input data to the valid range for imshow with RGB data ([0..1] for floats or [0..255] for integers).\n",
            "Clipping input data to the valid range for imshow with RGB data ([0..1] for floats or [0..255] for integers).\n",
            "Clipping input data to the valid range for imshow with RGB data ([0..1] for floats or [0..255] for integers).\n",
            "Clipping input data to the valid range for imshow with RGB data ([0..1] for floats or [0..255] for integers).\n",
            "Clipping input data to the valid range for imshow with RGB data ([0..1] for floats or [0..255] for integers).\n",
            "Clipping input data to the valid range for imshow with RGB data ([0..1] for floats or [0..255] for integers).\n"
          ],
          "name": "stderr"
        },
        {
          "output_type": "display_data",
          "data": {
            "image/png": "[encoded data removed]",
            "text/plain": [
              "<Figure size 1440x144 with 10 Axes>"
            ]
          },
          "metadata": {
            "tags": [],
            "needs_background": "light"
          }
        }
      ]
    },
    {
      "cell_type": "code",
      "metadata": {
        "id": "nYAVbu3fVehk",
        "colab_type": "code",
        "colab": {}
      },
      "source": [
        "train_loader = DataLoader(train_set, \n",
        "                          batch_size=args['batch_size'], \n",
        "                          shuffle=True)\n",
        "\n",
        "test_loader = DataLoader(test_set, \n",
        "                          batch_size=args['batch_size'], \n",
        "                          shuffle=True)"
      ],
      "execution_count": 19,
      "outputs": []
    },
    {
      "cell_type": "markdown",
      "metadata": {
        "id": "jaON9c1run2v",
        "colab_type": "text"
      },
      "source": [
        "## Adaptando a rede\n",
        "\n",
        "Vamos escolher um modelo da biblioteca de modelos pré-treinados do PyTorch:<br>\n",
        "https://pytorch.org/docs/stable/torchvision/models.html\n",
        "\n",
        "Infelizmente o PyTorch não inclui um modelo pré-treinado da LeNet que implementamos anteriormente. Usaremos então um dos modelos modernos de CNN."
      ]
    },
    {
      "cell_type": "code",
      "metadata": {
        "id": "xIn4yJCz_4-c",
        "colab_type": "code",
        "colab": {
          "base_uri": "https://localhost:8080/",
          "height": 1000
        },
        "outputId": "1dc152ce-5675-4762-f3c0-ea0f02f6dd00"
      },
      "source": [
        "net = models.vgg16_bn(pretrained=True).to(args['device'])\n",
        "print(net)"
      ],
      "execution_count": 21,
      "outputs": [
        {
          "output_type": "stream",
          "text": [
            "VGG(\n",
            "  (features): Sequential(\n",
            "    (0): Conv2d(3, 64, kernel_size=(3, 3), stride=(1, 1), padding=(1, 1))\n",
            "    (1): BatchNorm2d(64, eps=1e-05, momentum=0.1, affine=True, track_running_stats=True)\n",
            "    (2): ReLU(inplace=True)\n",
            "    (3): Conv2d(64, 64, kernel_size=(3, 3), stride=(1, 1), padding=(1, 1))\n",
            "    (4): BatchNorm2d(64, eps=1e-05, momentum=0.1, affine=True, track_running_stats=True)\n",
            "    (5): ReLU(inplace=True)\n",
            "    (6): MaxPool2d(kernel_size=2, stride=2, padding=0, dilation=1, ceil_mode=False)\n",
            "    (7): Conv2d(64, 128, kernel_size=(3, 3), stride=(1, 1), padding=(1, 1))\n",
            "    (8): BatchNorm2d(128, eps=1e-05, momentum=0.1, affine=True, track_running_stats=True)\n",
            "    (9): ReLU(inplace=True)\n",
            "    (10): Conv2d(128, 128, kernel_size=(3, 3), stride=(1, 1), padding=(1, 1))\n",
            "    (11): BatchNorm2d(128, eps=1e-05, momentum=0.1, affine=True, track_running_stats=True)\n",
            "    (12): ReLU(inplace=True)\n",
            "    (13): MaxPool2d(kernel_size=2, stride=2, padding=0, dilation=1, ceil_mode=False)\n",
            "    (14): Conv2d(128, 256, kernel_size=(3, 3), stride=(1, 1), padding=(1, 1))\n",
            "    (15): BatchNorm2d(256, eps=1e-05, momentum=0.1, affine=True, track_running_stats=True)\n",
            "    (16): ReLU(inplace=True)\n",
            "    (17): Conv2d(256, 256, kernel_size=(3, 3), stride=(1, 1), padding=(1, 1))\n",
            "    (18): BatchNorm2d(256, eps=1e-05, momentum=0.1, affine=True, track_running_stats=True)\n",
            "    (19): ReLU(inplace=True)\n",
            "    (20): Conv2d(256, 256, kernel_size=(3, 3), stride=(1, 1), padding=(1, 1))\n",
            "    (21): BatchNorm2d(256, eps=1e-05, momentum=0.1, affine=True, track_running_stats=True)\n",
            "    (22): ReLU(inplace=True)\n",
            "    (23): MaxPool2d(kernel_size=2, stride=2, padding=0, dilation=1, ceil_mode=False)\n",
            "    (24): Conv2d(256, 512, kernel_size=(3, 3), stride=(1, 1), padding=(1, 1))\n",
            "    (25): BatchNorm2d(512, eps=1e-05, momentum=0.1, affine=True, track_running_stats=True)\n",
            "    (26): ReLU(inplace=True)\n",
            "    (27): Conv2d(512, 512, kernel_size=(3, 3), stride=(1, 1), padding=(1, 1))\n",
            "    (28): BatchNorm2d(512, eps=1e-05, momentum=0.1, affine=True, track_running_stats=True)\n",
            "    (29): ReLU(inplace=True)\n",
            "    (30): Conv2d(512, 512, kernel_size=(3, 3), stride=(1, 1), padding=(1, 1))\n",
            "    (31): BatchNorm2d(512, eps=1e-05, momentum=0.1, affine=True, track_running_stats=True)\n",
            "    (32): ReLU(inplace=True)\n",
            "    (33): MaxPool2d(kernel_size=2, stride=2, padding=0, dilation=1, ceil_mode=False)\n",
            "    (34): Conv2d(512, 512, kernel_size=(3, 3), stride=(1, 1), padding=(1, 1))\n",
            "    (35): BatchNorm2d(512, eps=1e-05, momentum=0.1, affine=True, track_running_stats=True)\n",
            "    (36): ReLU(inplace=True)\n",
            "    (37): Conv2d(512, 512, kernel_size=(3, 3), stride=(1, 1), padding=(1, 1))\n",
            "    (38): BatchNorm2d(512, eps=1e-05, momentum=0.1, affine=True, track_running_stats=True)\n",
            "    (39): ReLU(inplace=True)\n",
            "    (40): Conv2d(512, 512, kernel_size=(3, 3), stride=(1, 1), padding=(1, 1))\n",
            "    (41): BatchNorm2d(512, eps=1e-05, momentum=0.1, affine=True, track_running_stats=True)\n",
            "    (42): ReLU(inplace=True)\n",
            "    (43): MaxPool2d(kernel_size=2, stride=2, padding=0, dilation=1, ceil_mode=False)\n",
            "  )\n",
            "  (avgpool): AdaptiveAvgPool2d(output_size=(7, 7))\n",
            "  (classifier): Sequential(\n",
            "    (0): Linear(in_features=25088, out_features=4096, bias=True)\n",
            "    (1): ReLU(inplace=True)\n",
            "    (2): Dropout(p=0.5, inplace=False)\n",
            "    (3): Linear(in_features=4096, out_features=4096, bias=True)\n",
            "    (4): ReLU(inplace=True)\n",
            "    (5): Dropout(p=0.5, inplace=False)\n",
            "    (6): Linear(in_features=4096, out_features=1000, bias=True)\n",
            "  )\n",
            ")\n"
          ],
          "name": "stdout"
        }
      ]
    },
    {
      "cell_type": "markdown",
      "metadata": {
        "id": "WLUXr4rHQLqW",
        "colab_type": "text"
      },
      "source": [
        "Através da função ```net.children()``` conseguimos acessar individualmente os módulos implementados na rede. \n",
        "\n",
        "https://pytorch.org/docs/stable/nn.html#torch.nn.Module.children"
      ]
    },
    {
      "cell_type": "code",
      "metadata": {
        "id": "2hJJD0fNQNSh",
        "colab_type": "code",
        "colab": {}
      },
      "source": [
        "print(list(net.named_children())[-1])"
      ],
      "execution_count": null,
      "outputs": []
    },
    {
      "cell_type": "markdown",
      "metadata": {
        "id": "Bn3Q9ZLuRjCm",
        "colab_type": "text"
      },
      "source": [
        "Podemos redefinir a rede com todos os módulos originais **exceto o último**, responsável pela classificação das características aprendidas pelas camadas anteriores."
      ]
    },
    {
      "cell_type": "code",
      "metadata": {
        "id": "9QiASHZol7KN",
        "colab_type": "code",
        "colab": {}
      },
      "source": [
        "net.classifier = nn.Sequential(list(net.children())[-1][:-3]).to(args['device'])\n",
        "print(net)"
      ],
      "execution_count": null,
      "outputs": []
    },
    {
      "cell_type": "markdown",
      "metadata": {
        "id": "nrYVSnphVIdD",
        "colab_type": "text"
      },
      "source": [
        "## Extraindo\n",
        "\n",
        "Nesse passo realizamos o mesmo fluxo da função de validação que implementamos anteriormente. Dessa vez não precisamos calcular a predição final, apenas armazenar as saídas da rede."
      ]
    },
    {
      "cell_type": "code",
      "metadata": {
        "id": "XJCkCC0QVHhw",
        "colab_type": "code",
        "colab": {}
      },
      "source": [
        "def extrai_caracteristicas(net, loader):\n",
        "\n",
        "  # Evaluation mode\n",
        "  net.eval()\n",
        "\n",
        "  feat_list, rotulo_list = [], []\n",
        "  with torch.no_grad(): \n",
        "    for k, batch in enumerate(loader):\n",
        "      print('\\r--{0}/{1}--'.format(k, len(loader)), end='', flush=True)\n",
        "\n",
        "      dado, rotulo = batch\n",
        "\n",
        "      # Cast do dado na GPU\n",
        "      dado = dado.to(args['device'])\n",
        "      rotulo = rotulo.to(args['device'])\n",
        "\n",
        "      # Extração\n",
        "      caracteristica = net(dado)\n",
        "      feat_list.append(caracteristica.detach().cpu().numpy())\n",
        "      rotulo_list.append(rotulo.detach().cpu().numpy())\n",
        "\n",
        "  feat_list    = np.asarray(feat_list)\n",
        "  feat_list    = np.reshape(feat_list, (feat_list.shape[0]*feat_list.shape[1], feat_list.shape[2]))\n",
        "\n",
        "  rotulo_list  = np.asarray(rotulo_list).ravel()\n",
        " \n",
        "  return feat_list, rotulo_list\n",
        "    "
      ],
      "execution_count": null,
      "outputs": []
    },
    {
      "cell_type": "code",
      "metadata": {
        "id": "75Zp8QwNWS54",
        "colab_type": "code",
        "colab": {}
      },
      "source": [
        "print('Load train')\n",
        "train_X, train_Y = extrai_caracteristicas(net, train_loader)\n",
        "print('\\nLoad test')\n",
        "test_X,  test_Y  = extrai_caracteristicas(net, test_loader)"
      ],
      "execution_count": null,
      "outputs": []
    },
    {
      "cell_type": "markdown",
      "metadata": {
        "id": "I_fr-wpUXnRd",
        "colab_type": "text"
      },
      "source": [
        "### Treinando um modelo de classificação (SVM)\n",
        "Documentação: https://scikit-learn.org/stable/modules/generated/sklearn.svm.LinearSVC.html\n",
        "\n",
        "Modelos de classificação no pacote ```scikit-learn``` seguem o seguinte padrão de uso:\n",
        "```python\n",
        "# Definição do classificador\n",
        "clf = LinearSVC()\n",
        "#Treinando \n",
        "clf.fit(X, y)\n",
        "# Usando no teste\n",
        "pred = clf.predict(Xt)\n",
        "```"
      ]
    },
    {
      "cell_type": "code",
      "metadata": {
        "id": "VjhI6f_kD57d",
        "colab_type": "code",
        "colab": {}
      },
      "source": [
        "from sklearn.svm import LinearSVC\n",
        "\n",
        "clf = LinearSVC()\n",
        "clf.fit(train_X, train_Y)\n",
        "\n",
        "pred = clf.predict(test_X)\n",
        "print('{:.2f}%'.format(accuracy_score(test_Y, pred)*100))"
      ],
      "execution_count": null,
      "outputs": []
    },
    {
      "cell_type": "markdown",
      "metadata": {
        "id": "XOWjAKdyYlog",
        "colab_type": "text"
      },
      "source": [
        "\n",
        "\n",
        "---\n",
        "\n",
        "\n",
        "# Fine-Tuning\n",
        "\n",
        "O objetivo aqui é aproveitar o valor de um modelo bem treinado e sua capacidade de generalizar pra dados que nunca viu antes.\n",
        " \n",
        "Lembre-se que o aprendizado é hierárquico, ou seja, camadas iniciais (em vermelho na imagem) aprendem características de baixo nível (bordas, quinas, etc.) que podem ser aproveitadas para múltiplos datasets. **Adaptamos então camadas mais semânticas** (em amarelo na imagem), que aprendem características mais específicas do dataset de treino. \n",
        "\n",
        "Aqui seguiremos dois passos:\n",
        "* Substituir a camada de classificação da rede original;\n",
        "* \"Congelar\" camadas iniciais da rede, para preservar seus pesos;\n",
        "* Definir múltiplas taxas de aprendizado para treinar as camadas finais.\n",
        "\n",
        "<img src=\"https://drive.google.com/uc?export=view&id=1BHzTprOsXunB7xmKZ7amcScfh2MRSqO1\" alt=\"drawing\" width=\"400\"/>"
      ]
    },
    {
      "cell_type": "markdown",
      "metadata": {
        "id": "ZvzQE7khny4-",
        "colab_type": "text"
      },
      "source": [
        "## Adaptando a Rede"
      ]
    },
    {
      "cell_type": "code",
      "metadata": {
        "id": "AjAVe-hEYu5Q",
        "colab_type": "code",
        "colab": {
          "base_uri": "https://localhost:8080/",
          "height": 1000
        },
        "outputId": "6dde1f4d-7e0a-485a-d5a0-f21e6370214e"
      },
      "source": [
        "net = models.vgg16_bn(pretrained=True).to(args['device'])\n",
        "print(net)"
      ],
      "execution_count": 22,
      "outputs": [
        {
          "output_type": "stream",
          "text": [
            "VGG(\n",
            "  (features): Sequential(\n",
            "    (0): Conv2d(3, 64, kernel_size=(3, 3), stride=(1, 1), padding=(1, 1))\n",
            "    (1): BatchNorm2d(64, eps=1e-05, momentum=0.1, affine=True, track_running_stats=True)\n",
            "    (2): ReLU(inplace=True)\n",
            "    (3): Conv2d(64, 64, kernel_size=(3, 3), stride=(1, 1), padding=(1, 1))\n",
            "    (4): BatchNorm2d(64, eps=1e-05, momentum=0.1, affine=True, track_running_stats=True)\n",
            "    (5): ReLU(inplace=True)\n",
            "    (6): MaxPool2d(kernel_size=2, stride=2, padding=0, dilation=1, ceil_mode=False)\n",
            "    (7): Conv2d(64, 128, kernel_size=(3, 3), stride=(1, 1), padding=(1, 1))\n",
            "    (8): BatchNorm2d(128, eps=1e-05, momentum=0.1, affine=True, track_running_stats=True)\n",
            "    (9): ReLU(inplace=True)\n",
            "    (10): Conv2d(128, 128, kernel_size=(3, 3), stride=(1, 1), padding=(1, 1))\n",
            "    (11): BatchNorm2d(128, eps=1e-05, momentum=0.1, affine=True, track_running_stats=True)\n",
            "    (12): ReLU(inplace=True)\n",
            "    (13): MaxPool2d(kernel_size=2, stride=2, padding=0, dilation=1, ceil_mode=False)\n",
            "    (14): Conv2d(128, 256, kernel_size=(3, 3), stride=(1, 1), padding=(1, 1))\n",
            "    (15): BatchNorm2d(256, eps=1e-05, momentum=0.1, affine=True, track_running_stats=True)\n",
            "    (16): ReLU(inplace=True)\n",
            "    (17): Conv2d(256, 256, kernel_size=(3, 3), stride=(1, 1), padding=(1, 1))\n",
            "    (18): BatchNorm2d(256, eps=1e-05, momentum=0.1, affine=True, track_running_stats=True)\n",
            "    (19): ReLU(inplace=True)\n",
            "    (20): Conv2d(256, 256, kernel_size=(3, 3), stride=(1, 1), padding=(1, 1))\n",
            "    (21): BatchNorm2d(256, eps=1e-05, momentum=0.1, affine=True, track_running_stats=True)\n",
            "    (22): ReLU(inplace=True)\n",
            "    (23): MaxPool2d(kernel_size=2, stride=2, padding=0, dilation=1, ceil_mode=False)\n",
            "    (24): Conv2d(256, 512, kernel_size=(3, 3), stride=(1, 1), padding=(1, 1))\n",
            "    (25): BatchNorm2d(512, eps=1e-05, momentum=0.1, affine=True, track_running_stats=True)\n",
            "    (26): ReLU(inplace=True)\n",
            "    (27): Conv2d(512, 512, kernel_size=(3, 3), stride=(1, 1), padding=(1, 1))\n",
            "    (28): BatchNorm2d(512, eps=1e-05, momentum=0.1, affine=True, track_running_stats=True)\n",
            "    (29): ReLU(inplace=True)\n",
            "    (30): Conv2d(512, 512, kernel_size=(3, 3), stride=(1, 1), padding=(1, 1))\n",
            "    (31): BatchNorm2d(512, eps=1e-05, momentum=0.1, affine=True, track_running_stats=True)\n",
            "    (32): ReLU(inplace=True)\n",
            "    (33): MaxPool2d(kernel_size=2, stride=2, padding=0, dilation=1, ceil_mode=False)\n",
            "    (34): Conv2d(512, 512, kernel_size=(3, 3), stride=(1, 1), padding=(1, 1))\n",
            "    (35): BatchNorm2d(512, eps=1e-05, momentum=0.1, affine=True, track_running_stats=True)\n",
            "    (36): ReLU(inplace=True)\n",
            "    (37): Conv2d(512, 512, kernel_size=(3, 3), stride=(1, 1), padding=(1, 1))\n",
            "    (38): BatchNorm2d(512, eps=1e-05, momentum=0.1, affine=True, track_running_stats=True)\n",
            "    (39): ReLU(inplace=True)\n",
            "    (40): Conv2d(512, 512, kernel_size=(3, 3), stride=(1, 1), padding=(1, 1))\n",
            "    (41): BatchNorm2d(512, eps=1e-05, momentum=0.1, affine=True, track_running_stats=True)\n",
            "    (42): ReLU(inplace=True)\n",
            "    (43): MaxPool2d(kernel_size=2, stride=2, padding=0, dilation=1, ceil_mode=False)\n",
            "  )\n",
            "  (avgpool): AdaptiveAvgPool2d(output_size=(7, 7))\n",
            "  (classifier): Sequential(\n",
            "    (0): Linear(in_features=25088, out_features=4096, bias=True)\n",
            "    (1): ReLU(inplace=True)\n",
            "    (2): Dropout(p=0.5, inplace=False)\n",
            "    (3): Linear(in_features=4096, out_features=4096, bias=True)\n",
            "    (4): ReLU(inplace=True)\n",
            "    (5): Dropout(p=0.5, inplace=False)\n",
            "    (6): Linear(in_features=4096, out_features=1000, bias=True)\n",
            "  )\n",
            ")\n"
          ],
          "name": "stdout"
        }
      ]
    },
    {
      "cell_type": "markdown",
      "metadata": {
        "id": "TNocx9QlSP8E",
        "colab_type": "text"
      },
      "source": [
        "Dessa vez vamos redefinir a camada de classificação, criando uma nova camada de dimensões adequadas ao nosso desafio.\n",
        "\n",
        "* O modelo original classificava as 1.000 classes do ImageNet <br>\n",
        "```nn.Linear(in_features, 1000)```\n",
        "* Nossa adaptação irá classificar 10 classes do CIFAR10 <br> \n",
        "```nn.Linear(in_features, 10)```"
      ]
    },
    {
      "cell_type": "code",
      "metadata": {
        "id": "g_2eSfh0d9YJ",
        "colab_type": "code",
        "colab": {
          "base_uri": "https://localhost:8080/",
          "height": 180
        },
        "outputId": "b5422efd-25c3-4d7f-d0e5-dfec0c23614e"
      },
      "source": [
        "in_features = list(net.children())[-1][-1].in_features\n",
        "\n",
        "new_classifier =list(net.classifier.children())[:-1]\n",
        "new_classifier.append(nn.Linear(in_features, 10))\n",
        "\n",
        "net.classifier = nn.Sequential(*new_classifier).to(args['device'])\n",
        "print(net.classifier)"
      ],
      "execution_count": 23,
      "outputs": [
        {
          "output_type": "stream",
          "text": [
            "Sequential(\n",
            "  (0): Linear(in_features=25088, out_features=4096, bias=True)\n",
            "  (1): ReLU(inplace=True)\n",
            "  (2): Dropout(p=0.5, inplace=False)\n",
            "  (3): Linear(in_features=4096, out_features=4096, bias=True)\n",
            "  (4): ReLU(inplace=True)\n",
            "  (5): Dropout(p=0.5, inplace=False)\n",
            "  (6): Linear(in_features=4096, out_features=10, bias=True)\n",
            ")\n"
          ],
          "name": "stdout"
        }
      ]
    },
    {
      "cell_type": "markdown",
      "metadata": {
        "id": "y4SCtrU6n2T-",
        "colab_type": "text"
      },
      "source": [
        "## Definindo múltiplas taxas de aprendizado\n",
        "\n",
        "Para \"congelar\" as camadas iniciais basta alterar o atributo ```requires_grad```, definindo-o como ```False``` para parâmetros que não queremos treinar. Podemos iterar nos parâmetros da rede através da função ```net.named_parameters()```.\n",
        "\n",
        "Para definir múltiplas taxas de aprendizados no otimizador, podemos consultar a documentação do pacote ```optim```:<br> \n",
        "https://pytorch.org/docs/stable/optim.html\n",
        "\n",
        "Podemos definir uma lista de dicionários para cada módulo que desejamos treinar.\n",
        "```python\n",
        "optim.Adam([\n",
        "            {'params': model.base.parameters()},\n",
        "            {'params': model.classifier.parameters(), 'lr': 1e-3}\n",
        "          ], lr=0)\n",
        "```"
      ]
    },
    {
      "cell_type": "code",
      "metadata": {
        "id": "tP_sSfEAntVW",
        "colab_type": "code",
        "colab": {}
      },
      "source": [
        "optimizer = optim.Adam([\n",
        "            {'params': net.features.parameters(), 'lr':args['lr']*0.2, 'weight_decay': args['weight_decay']*0.2},\n",
        "            {'params': net.classifier.parameters(), 'lr': args['lr'], 'weight_decay': args['weight_decay']}\n",
        "        ], lr=0)"
      ],
      "execution_count": 24,
      "outputs": []
    },
    {
      "cell_type": "markdown",
      "metadata": {
        "id": "9JpogGLQVq0v",
        "colab_type": "text"
      },
      "source": [
        "Não esquece de definir a função de perda :)"
      ]
    },
    {
      "cell_type": "code",
      "metadata": {
        "id": "yjrmRTONVtG1",
        "colab_type": "code",
        "colab": {}
      },
      "source": [
        "criterion = nn.CrossEntropyLoss().to(args['device'])"
      ],
      "execution_count": 25,
      "outputs": []
    },
    {
      "cell_type": "markdown",
      "metadata": {
        "id": "gOs3M_fsrRj7",
        "colab_type": "text"
      },
      "source": [
        "## Treino e Validação\n",
        "\n",
        "Aqui usaremos o fluxo idêntico ao que implementamos anteriormente. Já alteramos a rede e o otimizador para indicar que realizaremos um fine-tuning e não um treinamento *from scratch*."
      ]
    },
    {
      "cell_type": "code",
      "metadata": {
        "id": "HSMeLtaorRL2",
        "colab_type": "code",
        "colab": {}
      },
      "source": [
        "def train(train_loader, net, epoch):\n",
        "\n",
        "  # Training mode\n",
        "  net.train()\n",
        "  \n",
        "  start = time.time()\n",
        "  \n",
        "  epoch_loss  = []\n",
        "  pred_list, rotulo_list = [], []\n",
        "  for k, batch in enumerate(train_loader):\n",
        "    print('\\r--{0}/{1}--'.format(k, len(train_loader)), end='', flush=True)\n",
        "    dado, rotulo = batch\n",
        "    \n",
        "    # Cast do dado na GPU\n",
        "    dado = dado.to(args['device'])\n",
        "    rotulo = rotulo.to(args['device'])\n",
        "    \n",
        "    # Forward\n",
        "    ypred = net(dado)\n",
        "    # print(ypred.size(), rotulo.size())\n",
        "    loss = criterion(ypred, rotulo)\n",
        "    # print(loss.size())\n",
        "    epoch_loss.append(loss.cpu().data)\n",
        "\n",
        "    _, pred = torch.max(ypred, axis=1)\n",
        "    pred_list.append(pred.cpu().numpy())\n",
        "    rotulo_list.append(rotulo.cpu().numpy())\n",
        "    \n",
        "    # Backpropagation\n",
        "    optimizer.zero_grad()\n",
        "    loss.backward()\n",
        "    optimizer.step()\n",
        "   \n",
        "  epoch_loss = np.asarray(epoch_loss)\n",
        "  pred_list  = np.asarray(pred_list).ravel()\n",
        "  rotulo_list  = np.asarray(rotulo_list).ravel()\n",
        "\n",
        "  acc = accuracy_score(pred_list, rotulo_list)\n",
        "  \n",
        "  end = time.time()\n",
        "  print('\\n#################### Train ####################')\n",
        "  print('Epoch %d, Loss: %.4f +/- %.4f, Acc: %.2f, Time: %.2f' % (epoch, epoch_loss.mean(), epoch_loss.std(), acc*100, end-start))\n",
        "  \n",
        "  return epoch_loss.mean()\n",
        "    "
      ],
      "execution_count": 26,
      "outputs": []
    },
    {
      "cell_type": "code",
      "metadata": {
        "id": "ki_0yR0arVJK",
        "colab_type": "code",
        "colab": {}
      },
      "source": [
        "def validate(test_loader, net, epoch):\n",
        "\n",
        "  # Evaluation mode\n",
        "  net.eval()\n",
        "  \n",
        "  start = time.time()\n",
        "  \n",
        "  epoch_loss  = []\n",
        "  pred_list, rotulo_list = [], []\n",
        "  with torch.no_grad(): \n",
        "    for k, batch in enumerate(test_loader):\n",
        "      \n",
        "      print('\\r--{0}/{1}--'.format(k, len(test_loader)), end='', flush=True)\n",
        "      dado, rotulo = batch\n",
        "\n",
        "      # Cast do dado na GPU\n",
        "      dado = dado.to(args['device'])\n",
        "      rotulo = rotulo.to(args['device'])\n",
        "\n",
        "      # Forward\n",
        "      ypred = net(dado)\n",
        "      loss = criterion(ypred, rotulo)\n",
        "      epoch_loss.append(loss.cpu().data)\n",
        "\n",
        "      _, pred = torch.max(ypred, axis=1)\n",
        "      pred_list.append(pred.cpu().numpy())\n",
        "      rotulo_list.append(rotulo.cpu().numpy())\n",
        "\n",
        "  epoch_loss = np.asarray(epoch_loss)\n",
        "  pred_list  = np.asarray(pred_list).ravel()\n",
        "  rotulo_list  = np.asarray(rotulo_list).ravel()\n",
        "\n",
        "  acc = accuracy_score(pred_list, rotulo_list)\n",
        "  \n",
        "  end = time.time()\n",
        "  print('\\n********** Validate **********')\n",
        "  print('Epoch %d, Loss: %.4f +/- %.4f, Acc: %.2f, Time: %.2f\\n' % (epoch, epoch_loss.mean(), epoch_loss.std(), acc*100, end-start))\n",
        "  \n",
        "  return epoch_loss.mean()\n",
        "    "
      ],
      "execution_count": 27,
      "outputs": []
    },
    {
      "cell_type": "code",
      "metadata": {
        "id": "vfyvwWEQrXsF",
        "colab_type": "code",
        "colab": {
          "base_uri": "https://localhost:8080/",
          "height": 471
        },
        "outputId": "4f02dfde-2dee-4f33-cb54-017c7c01dd7d"
      },
      "source": [
        "train_losses, test_losses = [], []\n",
        "for epoch in range(args['epoch_num']):\n",
        "  \n",
        "  # Train\n",
        "  train_losses.append(train(train_loader, net, epoch))\n",
        "  \n",
        "  # Validate\n",
        "  test_losses.append(validate(test_loader, net, epoch))"
      ],
      "execution_count": 28,
      "outputs": [
        {
          "output_type": "stream",
          "text": [
            "--2499/2500--#################### Train ####################\n",
            "Epoch 0, Loss: 0.7552 +/- 0.3664, Acc: 75.72, Time: 546.28\n",
            "--499/500--********** Validate **********\n",
            "Epoch 0, Loss: 0.5969 +/- 0.2987, Acc: 82.04, Time: 49.69\n",
            "\n",
            "--2499/2500--#################### Train ####################\n",
            "Epoch 1, Loss: 0.5041 +/- 0.2583, Acc: 84.52, Time: 547.34\n",
            "--499/500--********** Validate **********\n",
            "Epoch 1, Loss: 0.4315 +/- 0.2477, Acc: 86.69, Time: 50.32\n",
            "\n",
            "--2499/2500--#################### Train ####################\n",
            "Epoch 2, Loss: 0.4122 +/- 0.2452, Acc: 87.39, Time: 547.27\n",
            "--499/500--********** Validate **********\n",
            "Epoch 2, Loss: 0.4610 +/- 0.2484, Acc: 85.87, Time: 50.16\n",
            "\n",
            "--2499/2500--#################### Train ####################\n",
            "Epoch 3, Loss: 0.3497 +/- 0.2179, Acc: 89.36, Time: 547.38\n",
            "--499/500--********** Validate **********\n",
            "Epoch 3, Loss: 0.3720 +/- 0.2320, Acc: 88.98, Time: 50.32\n",
            "\n",
            "--2499/2500--#################### Train ####################\n",
            "Epoch 4, Loss: 0.3106 +/- 0.2144, Acc: 90.68, Time: 547.25\n",
            "--499/500--********** Validate **********\n",
            "Epoch 4, Loss: 0.3953 +/- 0.2484, Acc: 88.06, Time: 50.14\n",
            "\n"
          ],
          "name": "stdout"
        }
      ]
    }
  ]
}